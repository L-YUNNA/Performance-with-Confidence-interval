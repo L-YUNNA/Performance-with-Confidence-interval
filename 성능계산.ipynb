{
 "cells": [
  {
   "cell_type": "code",
   "execution_count": 1,
   "id": "8affca9b",
   "metadata": {},
   "outputs": [],
   "source": [
    "import matplotlib.pyplot as plt\n",
    "import numpy as np\n",
    "import random\n",
    "import perf_CI\n",
    "\n",
    "from sklearn.preprocessing import OneHotEncoder\n",
    "from sklearn.metrics import *"
   ]
  },
  {
   "cell_type": "code",
   "execution_count": 2,
   "id": "0daf68b8",
   "metadata": {},
   "outputs": [
    {
     "data": {
      "text/plain": [
       "{'divide': 'warn', 'over': 'warn', 'under': 'ignore', 'invalid': 'warn'}"
      ]
     },
     "execution_count": 2,
     "metadata": {},
     "output_type": "execute_result"
    }
   ],
   "source": [
    "np.seterr(divide='ignore', invalid='ignore')   # ci 계산 시, numpy warning 무시"
   ]
  },
  {
   "cell_type": "markdown",
   "id": "1ceb383e",
   "metadata": {},
   "source": [
    "### Load data"
   ]
  },
  {
   "cell_type": "code",
   "execution_count": 3,
   "id": "6e640872",
   "metadata": {},
   "outputs": [],
   "source": [
    "def one_hot(y_data):     # y_data is Series type\n",
    "    y = list(y_data)\n",
    "    y = np.array(y).reshape(-1, 1)\n",
    "    \n",
    "    ohe = OneHotEncoder()\n",
    "    y_true = ohe.fit_transform(y).toarray()\n",
    "    return y_true"
   ]
  },
  {
   "cell_type": "code",
   "execution_count": 4,
   "id": "af0fca38",
   "metadata": {},
   "outputs": [],
   "source": [
    "y_true = np.array([1, 1, 1, 1, 1, 0, 1, 0, 1, 1, 1, 1, 1, 0, 1, 0, 1, 1, 1, 1, 0, 0,\n",
    "       1, 0, 1, 1, 1, 0, 1, 1, 1, 1, 1, 1, 1, 1, 0, 1, 1, 1, 1, 1, 1])\n",
    "\n",
    "y_pred = np.array([1, 1, 1, 1, 1, 1, 1, 1, 1, 1, 1, 1, 1, 1, 1, 1, 1, 1, 1, 1, 1, 1,\n",
    "       1, 1, 1, 1, 1, 1, 1, 1, 1, 1, 1, 1, 1, 1, 1, 1, 1, 1, 1, 1, 1])\n",
    "\n",
    "y_prob = np.array([[0.19738228, 0.80261772],\n",
    "       [0.20130248, 0.79869752],\n",
    "       [0.19525562, 0.80474438],\n",
    "       [0.19633831, 0.80366169],\n",
    "       [0.19448667, 0.80551333],\n",
    "       [0.2074963 , 0.7925037 ],\n",
    "       [0.1912716 , 0.8087284 ],\n",
    "       [0.20273229, 0.79726771],\n",
    "       [0.19023528, 0.80976472],\n",
    "       [0.21234268, 0.78765732],\n",
    "       [0.20268773, 0.79731227],\n",
    "       [0.19499594, 0.80500406],\n",
    "       [0.19748015, 0.80251985],\n",
    "       [0.20278297, 0.79721703],\n",
    "       [0.20219471, 0.79780529],\n",
    "       [0.20075644, 0.79924356],\n",
    "       [0.19656177, 0.80343823],\n",
    "       [0.20026933, 0.79973067],\n",
    "       [0.19063832, 0.80936168],\n",
    "       [0.19697693, 0.80302307],\n",
    "       [0.20193105, 0.79806895],\n",
    "       [0.19600258, 0.80399742],\n",
    "       [0.20149011, 0.79850989],\n",
    "       [0.19982141, 0.80017859],\n",
    "       [0.20149338, 0.79850662],\n",
    "       [0.19909079, 0.80090921],\n",
    "       [0.19080624, 0.80919376],\n",
    "       [0.1916446 , 0.8083554 ],\n",
    "       [0.20385577, 0.79614423],\n",
    "       [0.20041101, 0.79958899],\n",
    "       [0.19564368, 0.80435632],\n",
    "       [0.19303458, 0.80696542],\n",
    "       [0.19803763, 0.80196237],\n",
    "       [0.19305057, 0.80694943],\n",
    "       [0.19358931, 0.80641069],\n",
    "       [0.1943454 , 0.8056546 ],\n",
    "       [0.19799392, 0.80200608],\n",
    "       [0.19648707, 0.80351293],\n",
    "       [0.19888336, 0.80111664],\n",
    "       [0.19076266, 0.80923734],\n",
    "       [0.19145908, 0.80854092],\n",
    "       [0.2125092 , 0.7874908 ],\n",
    "       [0.19450857, 0.80549143]])"
   ]
  },
  {
   "cell_type": "code",
   "execution_count": 5,
   "id": "3e96da1e",
   "metadata": {
    "scrolled": true
   },
   "outputs": [
    {
     "data": {
      "text/plain": [
       "array([[0., 1.],\n",
       "       [0., 1.],\n",
       "       [0., 1.],\n",
       "       [0., 1.],\n",
       "       [0., 1.],\n",
       "       [1., 0.],\n",
       "       [0., 1.],\n",
       "       [1., 0.],\n",
       "       [0., 1.],\n",
       "       [0., 1.],\n",
       "       [0., 1.],\n",
       "       [0., 1.],\n",
       "       [0., 1.],\n",
       "       [1., 0.],\n",
       "       [0., 1.],\n",
       "       [1., 0.],\n",
       "       [0., 1.],\n",
       "       [0., 1.],\n",
       "       [0., 1.],\n",
       "       [0., 1.],\n",
       "       [1., 0.],\n",
       "       [1., 0.],\n",
       "       [0., 1.],\n",
       "       [1., 0.],\n",
       "       [0., 1.],\n",
       "       [0., 1.],\n",
       "       [0., 1.],\n",
       "       [1., 0.],\n",
       "       [0., 1.],\n",
       "       [0., 1.],\n",
       "       [0., 1.],\n",
       "       [0., 1.],\n",
       "       [0., 1.],\n",
       "       [0., 1.],\n",
       "       [0., 1.],\n",
       "       [0., 1.],\n",
       "       [1., 0.],\n",
       "       [0., 1.],\n",
       "       [0., 1.],\n",
       "       [0., 1.],\n",
       "       [0., 1.],\n",
       "       [0., 1.],\n",
       "       [0., 1.]])"
      ]
     },
     "execution_count": 5,
     "metadata": {},
     "output_type": "execute_result"
    }
   ],
   "source": [
    "one_hot_y_true = one_hot(y_true)\n",
    "one_hot_y_true"
   ]
  },
  {
   "cell_type": "code",
   "execution_count": 6,
   "id": "4d8d6f11",
   "metadata": {},
   "outputs": [
    {
     "name": "stdout",
     "output_type": "stream",
     "text": [
      "              precision    recall  f1-score   support\n",
      "\n",
      "           0    0.00000   0.00000   0.00000         9\n",
      "           1    0.79070   1.00000   0.88312        34\n",
      "\n",
      "    accuracy                        0.79070        43\n",
      "   macro avg    0.39535   0.50000   0.44156        43\n",
      "weighted avg    0.62520   0.79070   0.69828        43\n",
      "\n"
     ]
    },
    {
     "name": "stderr",
     "output_type": "stream",
     "text": [
      "C:\\ProgramData\\Anaconda3\\envs\\severance_py39\\lib\\site-packages\\sklearn\\metrics\\_classification.py:1334: UndefinedMetricWarning: Precision and F-score are ill-defined and being set to 0.0 in labels with no predicted samples. Use `zero_division` parameter to control this behavior.\n",
      "  _warn_prf(average, modifier, msg_start, len(result))\n",
      "C:\\ProgramData\\Anaconda3\\envs\\severance_py39\\lib\\site-packages\\sklearn\\metrics\\_classification.py:1334: UndefinedMetricWarning: Precision and F-score are ill-defined and being set to 0.0 in labels with no predicted samples. Use `zero_division` parameter to control this behavior.\n",
      "  _warn_prf(average, modifier, msg_start, len(result))\n",
      "C:\\ProgramData\\Anaconda3\\envs\\severance_py39\\lib\\site-packages\\sklearn\\metrics\\_classification.py:1334: UndefinedMetricWarning: Precision and F-score are ill-defined and being set to 0.0 in labels with no predicted samples. Use `zero_division` parameter to control this behavior.\n",
      "  _warn_prf(average, modifier, msg_start, len(result))\n"
     ]
    }
   ],
   "source": [
    "print(classification_report(y_true, y_pred, digits=5))"
   ]
  },
  {
   "cell_type": "markdown",
   "id": "edb97e15",
   "metadata": {},
   "source": [
    "##### - accuracy"
   ]
  },
  {
   "cell_type": "code",
   "execution_count": 7,
   "id": "e8367fac",
   "metadata": {},
   "outputs": [],
   "source": [
    "rng = np.random.RandomState(seed=1234)\n",
    "idx = np.arange(y_true.shape[0])"
   ]
  },
  {
   "cell_type": "code",
   "execution_count": 8,
   "id": "e0ee00d3",
   "metadata": {},
   "outputs": [
    {
     "name": "stdout",
     "output_type": "stream",
     "text": [
      "avg : 0.7907 0.67442 0.90698\n"
     ]
    }
   ],
   "source": [
    "avg_acc, avg_acc_lower, avg_acc_upper = perf_CI.get_acc_ci(rng, idx, y_true, y_pred)\n",
    "print('avg :', avg_acc, avg_acc_lower, avg_acc_upper)"
   ]
  },
  {
   "cell_type": "markdown",
   "id": "5206a7af",
   "metadata": {},
   "source": [
    "##### - f1 score"
   ]
  },
  {
   "cell_type": "code",
   "execution_count": 9,
   "id": "6ea96e06",
   "metadata": {},
   "outputs": [
    {
     "name": "stdout",
     "output_type": "stream",
     "text": [
      "f1_0 : 0.0 0.0 0.0\n",
      "f1_1 : 0.88312 0.80556 0.95122\n",
      "micro_avg_f1 : 0.7907 0.65116 0.90698\n"
     ]
    }
   ],
   "source": [
    "f1_0, f1_0_lower, f1_0_upper = perf_CI.get_f1_ci(rng, idx, y_true, y_pred, label=[0], average_type='micro')\n",
    "print('f1_0 :', f1_0, f1_0_lower, f1_0_upper)\n",
    "\n",
    "f1_1, f1_1_lower, f1_1_upper = perf_CI.get_f1_ci(rng, idx, y_true, y_pred, label=[1], average_type='micro')\n",
    "print('f1_1 :',f1_1, f1_1_lower, f1_1_upper)\n",
    "\n",
    "f1, f1_lower, f1_upper = perf_CI.get_f1_ci(rng, idx, y_true, y_pred, label=None, average_type='micro')\n",
    "print('micro_avg_f1 :', f1, f1_lower, f1_upper)"
   ]
  },
  {
   "cell_type": "code",
   "execution_count": 10,
   "id": "74c9d555",
   "metadata": {},
   "outputs": [
    {
     "name": "stdout",
     "output_type": "stream",
     "text": [
      "macro_avg_f1 : 0.44156 0.40278 0.47561\n"
     ]
    }
   ],
   "source": [
    "f1, f1_lower, f1_upper = perf_CI.get_f1_ci(rng, idx, y_true, y_pred, label=None, average_type='macro')\n",
    "print('macro_avg_f1 :', f1, f1_lower, f1_upper)"
   ]
  },
  {
   "cell_type": "code",
   "execution_count": 11,
   "id": "bdfce66d",
   "metadata": {},
   "outputs": [
    {
     "name": "stdout",
     "output_type": "stream",
     "text": [
      "weighted_avg_f1 : 0.69828 0.54328 0.86358\n"
     ]
    }
   ],
   "source": [
    "f1, f1_lower, f1_upper = perf_CI.get_f1_ci(rng, idx, y_true, y_pred, label=None, average_type='weighted')\n",
    "print('weighted_avg_f1 :', f1, f1_lower, f1_upper)"
   ]
  },
  {
   "cell_type": "markdown",
   "id": "8fe9270b",
   "metadata": {},
   "source": [
    "##### - sensitivity"
   ]
  },
  {
   "cell_type": "code",
   "execution_count": 12,
   "id": "ac27bf31",
   "metadata": {},
   "outputs": [
    {
     "name": "stdout",
     "output_type": "stream",
     "text": [
      "sen_0 : 0.0 0.0 0.0\n",
      "sen_1 : 1.0 1.0 1.0\n",
      "micro_avg_sen : 0.7907 0.65116 0.90698\n"
     ]
    }
   ],
   "source": [
    "sen_0, sen_0_low, sen_0_up = perf_CI.get_sen_ci(rng, idx, y_true, y_pred, label=[0], average_type='micro')\n",
    "print('sen_0 :', sen_0, sen_0_low, sen_0_up)\n",
    "\n",
    "sen_1, sen_1_low, sen_1_up = perf_CI.get_sen_ci(rng, idx, y_true, y_pred, label=[1], average_type='micro')\n",
    "print('sen_1 :', sen_1, sen_1_low, sen_1_up)\n",
    "\n",
    "sen, sen_lower, sen_upper = perf_CI.get_sen_ci(rng, idx, y_true, y_pred, label=None, average_type='micro')\n",
    "print('micro_avg_sen :', sen, sen_lower, sen_upper)"
   ]
  },
  {
   "cell_type": "markdown",
   "id": "3b37eed0",
   "metadata": {},
   "source": [
    "##### - specificity"
   ]
  },
  {
   "cell_type": "code",
   "execution_count": 13,
   "id": "188d45ba",
   "metadata": {},
   "outputs": [
    {
     "name": "stdout",
     "output_type": "stream",
     "text": [
      "spec0 : 1.0 1.0 1.0\n",
      "spec1 : 0.0 0.0 0.0\n",
      "micro_avg_spec : 0.7907 0.67442 0.90698\n"
     ]
    }
   ],
   "source": [
    "spec_0, spec_0_low, spec_0_up = perf_CI.Specificity().get_spec_ci(rng, idx, y_true, y_pred, label=[0], average_type=None)\n",
    "print('spec0 :', spec_0, spec_0_low, spec_0_up)\n",
    "\n",
    "spec_1, spec_1_low, spec_1_up = perf_CI.Specificity().get_spec_ci(rng, idx, y_true, y_pred, label=[1], average_type=None)\n",
    "print('spec1 :', spec_1, spec_1_low, spec_1_up)\n",
    "\n",
    "spec, spec_low, spec_up = perf_CI.Specificity().get_spec_ci(rng, idx, y_true, y_pred, label=[None], average_type='micro')\n",
    "print('micro_avg_spec :', spec, spec_low, spec_up)"
   ]
  },
  {
   "cell_type": "markdown",
   "id": "8f895fdc",
   "metadata": {},
   "source": [
    "##### - PPV, NPV"
   ]
  },
  {
   "cell_type": "code",
   "execution_count": 14,
   "id": "612e4b2e",
   "metadata": {},
   "outputs": [
    {
     "name": "stdout",
     "output_type": "stream",
     "text": [
      "ppv1 : 0.7907 0.67384 0.90698\n"
     ]
    }
   ],
   "source": [
    "ppv_1, ppv_1_low, ppv_1_up = perf_CI.get_ppv_ci(rng, idx, y_true, y_pred, label=1)\n",
    "print(\"ppv1 :\", ppv_1, ppv_1_low, ppv_1_up)"
   ]
  },
  {
   "cell_type": "code",
   "execution_count": 15,
   "id": "ab3263b4",
   "metadata": {},
   "outputs": [
    {
     "name": "stdout",
     "output_type": "stream",
     "text": [
      "npv1 : 0 0.0 0.0\n"
     ]
    }
   ],
   "source": [
    "npv_1, npv_1_low, npv_1_up = perf_CI.get_npv_ci(rng, idx, y_true, y_pred, label=1)\n",
    "print(\"npv1 :\", npv_1, npv_1_low, npv_1_up)"
   ]
  },
  {
   "cell_type": "markdown",
   "id": "a85de448",
   "metadata": {},
   "source": [
    "##### - LR"
   ]
  },
  {
   "cell_type": "code",
   "execution_count": 16,
   "id": "0ea375e1",
   "metadata": {},
   "outputs": [
    {
     "name": "stdout",
     "output_type": "stream",
     "text": [
      "LR+ :\n",
      " [1.] 1.0 1.0\n",
      "LR- :\n",
      " 0 0.0 0.0\n"
     ]
    }
   ],
   "source": [
    "perf_CI.get_lr_ci(rng, idx, y_true, y_pred, label=[1], average_type=None)"
   ]
  },
  {
   "cell_type": "markdown",
   "id": "9dba64a3",
   "metadata": {},
   "source": [
    "##### - auc"
   ]
  },
  {
   "cell_type": "code",
   "execution_count": 17,
   "id": "451f131d",
   "metadata": {},
   "outputs": [
    {
     "data": {
      "text/plain": [
       "0.7026143790849673"
      ]
     },
     "execution_count": 17,
     "metadata": {},
     "output_type": "execute_result"
    }
   ],
   "source": [
    "roc_auc_score(one_hot_y_true, y_prob)"
   ]
  },
  {
   "cell_type": "code",
   "execution_count": 18,
   "id": "3a6fea73",
   "metadata": {},
   "outputs": [
    {
     "name": "stdout",
     "output_type": "stream",
     "text": [
      "avg_auc : 0.70261 0.49665 0.89168\n"
     ]
    }
   ],
   "source": [
    "auc, auc_low, auc_up = perf_CI.get_auc_ci(rng, idx, one_hot_y_true, y_prob, label=None, average_type='macro')\n",
    "print('avg_auc :', auc, auc_low, auc_up)"
   ]
  },
  {
   "cell_type": "markdown",
   "id": "ad20dc49",
   "metadata": {},
   "source": [
    "##### - confusion matrix"
   ]
  },
  {
   "cell_type": "code",
   "execution_count": 19,
   "id": "f25faaa3",
   "metadata": {},
   "outputs": [
    {
     "data": {
      "text/plain": [
       "array([[ 0,  9],\n",
       "       [ 0, 34]], dtype=int64)"
      ]
     },
     "execution_count": 19,
     "metadata": {},
     "output_type": "execute_result"
    }
   ],
   "source": [
    "confusion_matrix(y_true, y_pred)"
   ]
  },
  {
   "cell_type": "code",
   "execution_count": 20,
   "id": "0aee9bed",
   "metadata": {},
   "outputs": [
    {
     "data": {
      "image/png": "[encoded data removed]",
      "text/plain": [
       "<Figure size 550x500 with 2 Axes>"
      ]
     },
     "metadata": {},
     "output_type": "display_data"
    }
   ],
   "source": [
    "perf_CI.get_cm(y_true, y_pred, save_name='gbm', label_name = ['0', '1'])"
   ]
  },
  {
   "cell_type": "code",
   "execution_count": null,
   "id": "04f8f033",
   "metadata": {},
   "outputs": [],
   "source": []
  },
  {
   "cell_type": "code",
   "execution_count": null,
   "id": "405842af",
   "metadata": {},
   "outputs": [],
   "source": []
  },
  {
   "cell_type": "code",
   "execution_count": null,
   "id": "3da1a22b",
   "metadata": {},
   "outputs": [],
   "source": []
  },
  {
   "cell_type": "code",
   "execution_count": null,
   "id": "c25db8c8",
   "metadata": {},
   "outputs": [],
   "source": []
  },
  {
   "cell_type": "code",
   "execution_count": null,
   "id": "30035bc8",
   "metadata": {},
   "outputs": [],
   "source": []
  }
 ],
 "metadata": {
  "kernelspec": {
   "display_name": "seve_39",
   "language": "python",
   "name": "severance_py39"
  },
  "language_info": {
   "codemirror_mode": {
    "name": "ipython",
    "version": 3
   },
   "file_extension": ".py",
   "mimetype": "text/x-python",
   "name": "python",
   "nbconvert_exporter": "python",
   "pygments_lexer": "ipython3",
   "version": "3.9.13"
  }
 },
 "nbformat": 4,
 "nbformat_minor": 5
}
